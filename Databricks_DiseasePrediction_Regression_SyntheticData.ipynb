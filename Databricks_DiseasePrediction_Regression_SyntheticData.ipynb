{
 "cells": [
  {
   "cell_type": "code",
   "execution_count": 0,
   "metadata": {
    "application/vnd.databricks.v1+cell": {
     "cellMetadata": {
      "byteLimit": 2048000,
      "rowLimit": 10000
     },
     "inputWidgets": {},
     "nuid": "ed1d6835-c148-492d-8021-a2ca9700c9ef",
     "showTitle": false,
     "title": ""
    }
   },
   "outputs": [],
   "source": [
    "# Healthcare Regression model using Synthetic data"
   ]
  },
  {
   "cell_type": "code",
   "execution_count": 0,
   "metadata": {
    "application/vnd.databricks.v1+cell": {
     "cellMetadata": {
      "byteLimit": 2048000,
      "rowLimit": 10000
     },
     "inputWidgets": {},
     "nuid": "5e7d09cf-8889-4b10-be00-0a6b44b6c89f",
     "showTitle": false,
     "title": ""
    }
   },
   "outputs": [],
   "source": [
    "# Build Regression model on health data\n",
    "# Build synthetic data generator"
   ]
  },
  {
   "cell_type": "code",
   "execution_count": 0,
   "metadata": {
    "application/vnd.databricks.v1+cell": {
     "cellMetadata": {
      "byteLimit": 2048000,
      "rowLimit": 10000
     },
     "inputWidgets": {},
     "nuid": "dc2638c6-f38d-4d75-b882-02cc1846edb0",
     "showTitle": false,
     "title": ""
    }
   },
   "outputs": [],
   "source": [
    "import math\n",
    "import torch\n",
    "import torch.nn as nn\n",
    "from torch.nn import functional as F\n",
    "import pandas as pd\n",
    "import numpy as np\n"
   ]
  },
  {
   "cell_type": "code",
   "execution_count": 0,
   "metadata": {
    "application/vnd.databricks.v1+cell": {
     "cellMetadata": {
      "byteLimit": 2048000,
      "rowLimit": 10000
     },
     "inputWidgets": {},
     "nuid": "faefa86a-0e86-476f-99e1-e56007944aa8",
     "showTitle": false,
     "title": ""
    }
   },
   "outputs": [],
   "source": [
    "# 1. Get disease params for BP, Diabetes, Cholesterol, Thyroid\n",
    "# 2. Generate data within params - healthy, risky on a spectrum\n",
    "# 3. Train a model to predict disease\n",
    "# 4. Look for correlation, cross params\n",
    "# 5. Start with numbers\n",
    "# 6. Add image, voice/text\n",
    "# 7. See how to download html, pdf content and analyze\n",
    "# 8. \n",
    "# 9. "
   ]
  },
  {
   "cell_type": "code",
   "execution_count": 0,
   "metadata": {
    "application/vnd.databricks.v1+cell": {
     "cellMetadata": {
      "byteLimit": 2048000,
      "rowLimit": 10000
     },
     "inputWidgets": {},
     "nuid": "55c88913-a810-41e7-aa9b-e7b3fc0c5f16",
     "showTitle": false,
     "title": ""
    }
   },
   "outputs": [],
   "source": [
    "# 1. Get disease params for BP, Diabetes, Cholesterol, Thyroid"
   ]
  },
  {
   "cell_type": "code",
   "execution_count": 0,
   "metadata": {
    "application/vnd.databricks.v1+cell": {
     "cellMetadata": {
      "byteLimit": 2048000,
      "rowLimit": 10000
     },
     "inputWidgets": {},
     "nuid": "3a74d481-16ee-4444-93d5-7c7e336aaded",
     "showTitle": false,
     "title": ""
    }
   },
   "outputs": [],
   "source": [
    "# Thyroid params\n",
    "# T3, T4, TSH\n",
    "# TSH 0.3 - 4.0 mU/L,  milliunits per liter\n",
    "# T3 Total 80 - 215 ng/dL, nanograms per deciliter. Free  1.5-6.0 pg/mL picograms per milliliter\n",
    "# T4 Total 4.5-12.5 ug/d micrograms. Free 0.8-2.0 ng/dL"
   ]
  },
  {
   "cell_type": "code",
   "execution_count": 0,
   "metadata": {
    "application/vnd.databricks.v1+cell": {
     "cellMetadata": {
      "byteLimit": 2048000,
      "rowLimit": 10000
     },
     "inputWidgets": {},
     "nuid": "81cb771e-f14b-42a0-804a-d6faff22104a",
     "showTitle": false,
     "title": ""
    }
   },
   "outputs": [
    {
     "output_type": "stream",
     "name": "stdout",
     "output_type": "stream",
     "text": [
      "150.0 57.445626465380286\n"
     ]
    }
   ],
   "source": [
    "sd = np.std([60,80,100,120,140,160,180,200,220,240])\n",
    "mean = np.mean([60,80,100,120,140,160,180,200,220,240])\n",
    "print(mean,sd)"
   ]
  },
  {
   "cell_type": "code",
   "execution_count": 0,
   "metadata": {
    "application/vnd.databricks.v1+cell": {
     "cellMetadata": {
      "byteLimit": 2048000,
      "rowLimit": 10000
     },
     "inputWidgets": {},
     "nuid": "436cb3ec-8cdf-4c56-939b-a94e0c4587ff",
     "showTitle": false,
     "title": ""
    }
   },
   "outputs": [
    {
     "output_type": "stream",
     "name": "stdout",
     "output_type": "stream",
     "text": [
      "7.5 4.031128874149275\n"
     ]
    }
   ],
   "source": [
    "sd = np.std([1,2,3,4,5,6,7,8,9,10,11,12,13,14])\n",
    "mean = np.mean([1,2,3,4,5,6,7,8,9,10,11,12,13,14])\n",
    "print(mean,sd)"
   ]
  },
  {
   "cell_type": "code",
   "execution_count": 0,
   "metadata": {
    "application/vnd.databricks.v1+cell": {
     "cellMetadata": {
      "byteLimit": 2048000,
      "rowLimit": 10000
     },
     "inputWidgets": {},
     "nuid": "c71d1bc6-cc45-4645-945e-e5e238931d50",
     "showTitle": false,
     "title": ""
    }
   },
   "outputs": [
    {
     "output_type": "stream",
     "name": "stdout",
     "output_type": "stream",
     "text": [
      "3.5 1.707825127659933\n"
     ]
    }
   ],
   "source": [
    "sd = np.std([1,2,3,4,5,6])\n",
    "mean = np.mean([1,2,3,4,5,6])\n",
    "print(mean,sd)"
   ]
  },
  {
   "cell_type": "code",
   "execution_count": 0,
   "metadata": {
    "application/vnd.databricks.v1+cell": {
     "cellMetadata": {
      "byteLimit": 2048000,
      "rowLimit": 10000
     },
     "inputWidgets": {},
     "nuid": "5dec86cd-7dfe-4b55-a742-3cd6efe065fa",
     "showTitle": false,
     "title": ""
    }
   },
   "outputs": [],
   "source": [
    "# 2. Generate data within params - healthy, risky on a spectrum"
   ]
  },
  {
   "cell_type": "code",
   "execution_count": 0,
   "metadata": {
    "application/vnd.databricks.v1+cell": {
     "cellMetadata": {
      "byteLimit": 2048000,
      "rowLimit": 10000
     },
     "inputWidgets": {},
     "nuid": "73bbb188-0b04-41d3-a31e-7ea7ae6023b2",
     "showTitle": false,
     "title": ""
    }
   },
   "outputs": [],
   "source": [
    "t3 = pd.DataFrame(np.random.normal((215+80)/2,60,1000000), columns=['T3'])\n",
    "t4 = pd.DataFrame(np.random.normal((12.5+4.5)/2,4,1000000), columns=['T4'])\n",
    "tsh = pd.DataFrame(np.random.normal((4+.3)/2,1.7,1000000), columns=['TSH'])\n"
   ]
  },
  {
   "cell_type": "code",
   "execution_count": 0,
   "metadata": {
    "application/vnd.databricks.v1+cell": {
     "cellMetadata": {
      "byteLimit": 2048000,
      "rowLimit": 10000
     },
     "inputWidgets": {},
     "nuid": "6fc7451a-9761-458b-9977-e29d1632bfc0",
     "showTitle": false,
     "title": ""
    }
   },
   "outputs": [
    {
     "output_type": "execute_result",
     "data": {
      "text/html": [
       "<div>\n",
       "<style scoped>\n",
       "    .dataframe tbody tr th:only-of-type {\n",
       "        vertical-align: middle;\n",
       "    }\n",
       "\n",
       "    .dataframe tbody tr th {\n",
       "        vertical-align: top;\n",
       "    }\n",
       "\n",
       "    .dataframe thead th {\n",
       "        text-align: right;\n",
       "    }\n",
       "</style>\n",
       "<table border=\"1\" class=\"dataframe\">\n",
       "  <thead>\n",
       "    <tr style=\"text-align: right;\">\n",
       "      <th></th>\n",
       "      <th>T4</th>\n",
       "    </tr>\n",
       "  </thead>\n",
       "  <tbody>\n",
       "    <tr>\n",
       "      <th>0</th>\n",
       "      <td>10.372534</td>\n",
       "    </tr>\n",
       "    <tr>\n",
       "      <th>1</th>\n",
       "      <td>17.461578</td>\n",
       "    </tr>\n",
       "    <tr>\n",
       "      <th>2</th>\n",
       "      <td>5.983231</td>\n",
       "    </tr>\n",
       "    <tr>\n",
       "      <th>3</th>\n",
       "      <td>7.343374</td>\n",
       "    </tr>\n",
       "    <tr>\n",
       "      <th>4</th>\n",
       "      <td>10.228432</td>\n",
       "    </tr>\n",
       "  </tbody>\n",
       "</table>\n",
       "</div>"
      ],
      "text/plain": [
       "          T4\n",
       "0  10.372534\n",
       "1  17.461578\n",
       "2   5.983231\n",
       "3   7.343374\n",
       "4  10.228432"
      ]
     },
     "execution_count": 12,
     "metadata": {},
     "output_type": "execute_result"
    }
   ],
   "source": [
    "t4.head()"
   ]
  },
  {
   "cell_type": "code",
   "execution_count": 0,
   "metadata": {
    "application/vnd.databricks.v1+cell": {
     "cellMetadata": {
      "byteLimit": 2048000,
      "rowLimit": 10000
     },
     "inputWidgets": {},
     "nuid": "05037e9e-73a8-46ea-b0fa-396249cec8a4",
     "showTitle": false,
     "title": ""
    }
   },
   "outputs": [],
   "source": [
    "conditions = [(t3['T3']<80), ((t3['T3']>=80) & (t3['T3']<=215)), (t3['T3']>215)]\n",
    "values = ['Low','Normal','High']\n",
    "t3['T3level'] = np.select(conditions, values)"
   ]
  },
  {
   "cell_type": "code",
   "execution_count": 0,
   "metadata": {
    "application/vnd.databricks.v1+cell": {
     "cellMetadata": {
      "byteLimit": 2048000,
      "rowLimit": 10000
     },
     "inputWidgets": {},
     "nuid": "b4d99f07-dc29-4846-9656-0b824c8dfcc5",
     "showTitle": false,
     "title": ""
    }
   },
   "outputs": [],
   "source": [
    "conditions = [(t4['T4']<4.5), ((t4['T4']>=4.5) & (t4['T4']<=12.5)), (t4['T4']>12.5)]\n",
    "values = ['Low','Normal','High']\n",
    "t4['T4level'] = np.select(conditions, values)"
   ]
  },
  {
   "cell_type": "code",
   "execution_count": 0,
   "metadata": {
    "application/vnd.databricks.v1+cell": {
     "cellMetadata": {
      "byteLimit": 2048000,
      "rowLimit": 10000
     },
     "inputWidgets": {},
     "nuid": "10f95302-4815-47bc-9357-d36e3708181f",
     "showTitle": false,
     "title": ""
    }
   },
   "outputs": [],
   "source": [
    "conditions = [(tsh['TSH']<0.3), ((tsh['TSH']>=0.3) & (tsh['TSH']<=4)), (tsh['TSH']>4)]\n",
    "values = ['Low','Normal','High']\n",
    "tsh['TSHlevel'] = np.select(conditions, values)"
   ]
  },
  {
   "cell_type": "code",
   "execution_count": 0,
   "metadata": {
    "application/vnd.databricks.v1+cell": {
     "cellMetadata": {
      "byteLimit": 2048000,
      "rowLimit": 10000
     },
     "inputWidgets": {},
     "nuid": "39017454-7a04-43ae-a2bf-1c875758f2a0",
     "showTitle": false,
     "title": ""
    }
   },
   "outputs": [],
   "source": [
    "thyroid_df = pd.concat([t3,t4,tsh], axis=1, ignore_index=False)"
   ]
  },
  {
   "cell_type": "code",
   "execution_count": 0,
   "metadata": {
    "application/vnd.databricks.v1+cell": {
     "cellMetadata": {
      "byteLimit": 2048000,
      "rowLimit": 10000
     },
     "inputWidgets": {},
     "nuid": "98a62b64-e8f2-4d5f-94db-76a2399d6721",
     "showTitle": false,
     "title": ""
    }
   },
   "outputs": [
    {
     "output_type": "execute_result",
     "data": {
      "text/html": [
       "<div>\n",
       "<style scoped>\n",
       "    .dataframe tbody tr th:only-of-type {\n",
       "        vertical-align: middle;\n",
       "    }\n",
       "\n",
       "    .dataframe tbody tr th {\n",
       "        vertical-align: top;\n",
       "    }\n",
       "\n",
       "    .dataframe thead th {\n",
       "        text-align: right;\n",
       "    }\n",
       "</style>\n",
       "<table border=\"1\" class=\"dataframe\">\n",
       "  <thead>\n",
       "    <tr style=\"text-align: right;\">\n",
       "      <th></th>\n",
       "      <th>T3</th>\n",
       "      <th>T3level</th>\n",
       "      <th>T4</th>\n",
       "      <th>T4level</th>\n",
       "      <th>TSH</th>\n",
       "      <th>TSHlevel</th>\n",
       "    </tr>\n",
       "  </thead>\n",
       "  <tbody>\n",
       "    <tr>\n",
       "      <th>0</th>\n",
       "      <td>78.988280</td>\n",
       "      <td>Low</td>\n",
       "      <td>10.372534</td>\n",
       "      <td>Normal</td>\n",
       "      <td>3.705374</td>\n",
       "      <td>Normal</td>\n",
       "    </tr>\n",
       "    <tr>\n",
       "      <th>1</th>\n",
       "      <td>68.583006</td>\n",
       "      <td>Low</td>\n",
       "      <td>17.461578</td>\n",
       "      <td>High</td>\n",
       "      <td>1.178236</td>\n",
       "      <td>Normal</td>\n",
       "    </tr>\n",
       "    <tr>\n",
       "      <th>2</th>\n",
       "      <td>296.482041</td>\n",
       "      <td>High</td>\n",
       "      <td>5.983231</td>\n",
       "      <td>Normal</td>\n",
       "      <td>2.717792</td>\n",
       "      <td>Normal</td>\n",
       "    </tr>\n",
       "    <tr>\n",
       "      <th>3</th>\n",
       "      <td>145.809057</td>\n",
       "      <td>Normal</td>\n",
       "      <td>7.343374</td>\n",
       "      <td>Normal</td>\n",
       "      <td>2.281610</td>\n",
       "      <td>Normal</td>\n",
       "    </tr>\n",
       "    <tr>\n",
       "      <th>4</th>\n",
       "      <td>116.942268</td>\n",
       "      <td>Normal</td>\n",
       "      <td>10.228432</td>\n",
       "      <td>Normal</td>\n",
       "      <td>1.943732</td>\n",
       "      <td>Normal</td>\n",
       "    </tr>\n",
       "    <tr>\n",
       "      <th>...</th>\n",
       "      <td>...</td>\n",
       "      <td>...</td>\n",
       "      <td>...</td>\n",
       "      <td>...</td>\n",
       "      <td>...</td>\n",
       "      <td>...</td>\n",
       "    </tr>\n",
       "    <tr>\n",
       "      <th>999995</th>\n",
       "      <td>192.125913</td>\n",
       "      <td>Normal</td>\n",
       "      <td>8.700890</td>\n",
       "      <td>Normal</td>\n",
       "      <td>4.713134</td>\n",
       "      <td>High</td>\n",
       "    </tr>\n",
       "    <tr>\n",
       "      <th>999996</th>\n",
       "      <td>47.760126</td>\n",
       "      <td>Low</td>\n",
       "      <td>8.544861</td>\n",
       "      <td>Normal</td>\n",
       "      <td>-0.609541</td>\n",
       "      <td>Low</td>\n",
       "    </tr>\n",
       "    <tr>\n",
       "      <th>999997</th>\n",
       "      <td>194.445028</td>\n",
       "      <td>Normal</td>\n",
       "      <td>6.118785</td>\n",
       "      <td>Normal</td>\n",
       "      <td>3.589772</td>\n",
       "      <td>Normal</td>\n",
       "    </tr>\n",
       "    <tr>\n",
       "      <th>999998</th>\n",
       "      <td>175.119358</td>\n",
       "      <td>Normal</td>\n",
       "      <td>12.658539</td>\n",
       "      <td>High</td>\n",
       "      <td>0.278695</td>\n",
       "      <td>Low</td>\n",
       "    </tr>\n",
       "    <tr>\n",
       "      <th>999999</th>\n",
       "      <td>144.305670</td>\n",
       "      <td>Normal</td>\n",
       "      <td>5.518029</td>\n",
       "      <td>Normal</td>\n",
       "      <td>0.977962</td>\n",
       "      <td>Normal</td>\n",
       "    </tr>\n",
       "  </tbody>\n",
       "</table>\n",
       "<p>1000000 rows × 6 columns</p>\n",
       "</div>"
      ],
      "text/plain": [
       "                T3 T3level         T4 T4level       TSH TSHlevel\n",
       "0        78.988280     Low  10.372534  Normal  3.705374   Normal\n",
       "1        68.583006     Low  17.461578    High  1.178236   Normal\n",
       "2       296.482041    High   5.983231  Normal  2.717792   Normal\n",
       "3       145.809057  Normal   7.343374  Normal  2.281610   Normal\n",
       "4       116.942268  Normal  10.228432  Normal  1.943732   Normal\n",
       "...            ...     ...        ...     ...       ...      ...\n",
       "999995  192.125913  Normal   8.700890  Normal  4.713134     High\n",
       "999996   47.760126     Low   8.544861  Normal -0.609541      Low\n",
       "999997  194.445028  Normal   6.118785  Normal  3.589772   Normal\n",
       "999998  175.119358  Normal  12.658539    High  0.278695      Low\n",
       "999999  144.305670  Normal   5.518029  Normal  0.977962   Normal\n",
       "\n",
       "[1000000 rows x 6 columns]"
      ]
     },
     "execution_count": 17,
     "metadata": {},
     "output_type": "execute_result"
    }
   ],
   "source": [
    "thyroid_df"
   ]
  },
  {
   "cell_type": "code",
   "execution_count": 0,
   "metadata": {
    "application/vnd.databricks.v1+cell": {
     "cellMetadata": {
      "byteLimit": 2048000,
      "rowLimit": 10000
     },
     "inputWidgets": {},
     "nuid": "b4577f73-5440-40eb-98cb-e6146dbd3f80",
     "showTitle": false,
     "title": ""
    }
   },
   "outputs": [],
   "source": [
    "conditions = [((thyroid_df['T3level'] == 'Low')&(thyroid_df['T4level'] == 'Low')&(thyroid_df['TSHlevel'] == 'High')), \n",
    "              ((thyroid_df['T3level'] == 'High')&(thyroid_df['T4level'] == 'High')&(thyroid_df['TSHlevel'] == 'Low')), \n",
    "              ((thyroid_df['T3level'] == 'Normal')&(thyroid_df['T4level'] == 'Normal')&(thyroid_df['TSHlevel'] == 'Normal'))]\n",
    "values = ['Hypothyroidism','Hyperthyroidism','NormalThyroid']\n",
    "thyroid_df['ThyroidDisease'] = np.select(conditions, values)"
   ]
  },
  {
   "cell_type": "code",
   "execution_count": 0,
   "metadata": {
    "application/vnd.databricks.v1+cell": {
     "cellMetadata": {
      "byteLimit": 2048000,
      "rowLimit": 10000
     },
     "inputWidgets": {},
     "nuid": "570ad239-5d02-4926-b540-155b0e489135",
     "showTitle": false,
     "title": ""
    }
   },
   "outputs": [],
   "source": [
    "x = thyroid_df[(thyroid_df['T3level'] == 'Low')&(thyroid_df['T4level'] == 'Low')&(thyroid_df['TSHlevel'] == 'High')]"
   ]
  },
  {
   "cell_type": "code",
   "execution_count": 0,
   "metadata": {
    "application/vnd.databricks.v1+cell": {
     "cellMetadata": {
      "byteLimit": 2048000,
      "rowLimit": 10000
     },
     "inputWidgets": {},
     "nuid": "582d6e87-da1d-43e6-a127-82e1bf2114f9",
     "showTitle": false,
     "title": ""
    }
   },
   "outputs": [
    {
     "output_type": "execute_result",
     "data": {
      "text/html": [
       "<div>\n",
       "<style scoped>\n",
       "    .dataframe tbody tr th:only-of-type {\n",
       "        vertical-align: middle;\n",
       "    }\n",
       "\n",
       "    .dataframe tbody tr th {\n",
       "        vertical-align: top;\n",
       "    }\n",
       "\n",
       "    .dataframe thead th {\n",
       "        text-align: right;\n",
       "    }\n",
       "</style>\n",
       "<table border=\"1\" class=\"dataframe\">\n",
       "  <thead>\n",
       "    <tr style=\"text-align: right;\">\n",
       "      <th></th>\n",
       "      <th>T3</th>\n",
       "      <th>T3level</th>\n",
       "      <th>T4</th>\n",
       "      <th>T4level</th>\n",
       "      <th>TSH</th>\n",
       "      <th>TSHlevel</th>\n",
       "      <th>ThyroidDisease</th>\n",
       "    </tr>\n",
       "  </thead>\n",
       "  <tbody>\n",
       "    <tr>\n",
       "      <th>57</th>\n",
       "      <td>66.577205</td>\n",
       "      <td>Low</td>\n",
       "      <td>2.904872</td>\n",
       "      <td>Low</td>\n",
       "      <td>5.181338</td>\n",
       "      <td>High</td>\n",
       "      <td>Hypothyroidism</td>\n",
       "    </tr>\n",
       "    <tr>\n",
       "      <th>491</th>\n",
       "      <td>31.197808</td>\n",
       "      <td>Low</td>\n",
       "      <td>-5.366103</td>\n",
       "      <td>Low</td>\n",
       "      <td>4.415042</td>\n",
       "      <td>High</td>\n",
       "      <td>Hypothyroidism</td>\n",
       "    </tr>\n",
       "    <tr>\n",
       "      <th>817</th>\n",
       "      <td>73.585827</td>\n",
       "      <td>Low</td>\n",
       "      <td>4.200486</td>\n",
       "      <td>Low</td>\n",
       "      <td>4.029973</td>\n",
       "      <td>High</td>\n",
       "      <td>Hypothyroidism</td>\n",
       "    </tr>\n",
       "    <tr>\n",
       "      <th>1246</th>\n",
       "      <td>67.516209</td>\n",
       "      <td>Low</td>\n",
       "      <td>1.727342</td>\n",
       "      <td>Low</td>\n",
       "      <td>4.135409</td>\n",
       "      <td>High</td>\n",
       "      <td>Hypothyroidism</td>\n",
       "    </tr>\n",
       "    <tr>\n",
       "      <th>1252</th>\n",
       "      <td>63.025644</td>\n",
       "      <td>Low</td>\n",
       "      <td>3.339743</td>\n",
       "      <td>Low</td>\n",
       "      <td>5.674586</td>\n",
       "      <td>High</td>\n",
       "      <td>Hypothyroidism</td>\n",
       "    </tr>\n",
       "    <tr>\n",
       "      <th>...</th>\n",
       "      <td>...</td>\n",
       "      <td>...</td>\n",
       "      <td>...</td>\n",
       "      <td>...</td>\n",
       "      <td>...</td>\n",
       "      <td>...</td>\n",
       "      <td>...</td>\n",
       "    </tr>\n",
       "    <tr>\n",
       "      <th>998011</th>\n",
       "      <td>54.839990</td>\n",
       "      <td>Low</td>\n",
       "      <td>1.910207</td>\n",
       "      <td>Low</td>\n",
       "      <td>5.693146</td>\n",
       "      <td>High</td>\n",
       "      <td>Hypothyroidism</td>\n",
       "    </tr>\n",
       "    <tr>\n",
       "      <th>998174</th>\n",
       "      <td>71.623129</td>\n",
       "      <td>Low</td>\n",
       "      <td>4.395649</td>\n",
       "      <td>Low</td>\n",
       "      <td>4.012847</td>\n",
       "      <td>High</td>\n",
       "      <td>Hypothyroidism</td>\n",
       "    </tr>\n",
       "    <tr>\n",
       "      <th>998962</th>\n",
       "      <td>75.981925</td>\n",
       "      <td>Low</td>\n",
       "      <td>4.001851</td>\n",
       "      <td>Low</td>\n",
       "      <td>4.653240</td>\n",
       "      <td>High</td>\n",
       "      <td>Hypothyroidism</td>\n",
       "    </tr>\n",
       "    <tr>\n",
       "      <th>999312</th>\n",
       "      <td>58.968301</td>\n",
       "      <td>Low</td>\n",
       "      <td>1.370149</td>\n",
       "      <td>Low</td>\n",
       "      <td>4.353684</td>\n",
       "      <td>High</td>\n",
       "      <td>Hypothyroidism</td>\n",
       "    </tr>\n",
       "    <tr>\n",
       "      <th>999394</th>\n",
       "      <td>67.103551</td>\n",
       "      <td>Low</td>\n",
       "      <td>2.866557</td>\n",
       "      <td>Low</td>\n",
       "      <td>5.245584</td>\n",
       "      <td>High</td>\n",
       "      <td>Hypothyroidism</td>\n",
       "    </tr>\n",
       "  </tbody>\n",
       "</table>\n",
       "<p>2755 rows × 7 columns</p>\n",
       "</div>"
      ],
      "text/plain": [
       "               T3 T3level        T4 T4level       TSH TSHlevel  ThyroidDisease\n",
       "57      66.577205     Low  2.904872     Low  5.181338     High  Hypothyroidism\n",
       "491     31.197808     Low -5.366103     Low  4.415042     High  Hypothyroidism\n",
       "817     73.585827     Low  4.200486     Low  4.029973     High  Hypothyroidism\n",
       "1246    67.516209     Low  1.727342     Low  4.135409     High  Hypothyroidism\n",
       "1252    63.025644     Low  3.339743     Low  5.674586     High  Hypothyroidism\n",
       "...           ...     ...       ...     ...       ...      ...             ...\n",
       "998011  54.839990     Low  1.910207     Low  5.693146     High  Hypothyroidism\n",
       "998174  71.623129     Low  4.395649     Low  4.012847     High  Hypothyroidism\n",
       "998962  75.981925     Low  4.001851     Low  4.653240     High  Hypothyroidism\n",
       "999312  58.968301     Low  1.370149     Low  4.353684     High  Hypothyroidism\n",
       "999394  67.103551     Low  2.866557     Low  5.245584     High  Hypothyroidism\n",
       "\n",
       "[2755 rows x 7 columns]"
      ]
     },
     "execution_count": 20,
     "metadata": {},
     "output_type": "execute_result"
    }
   ],
   "source": [
    "x"
   ]
  },
  {
   "cell_type": "code",
   "execution_count": 0,
   "metadata": {
    "application/vnd.databricks.v1+cell": {
     "cellMetadata": {
      "byteLimit": 2048000,
      "rowLimit": 10000
     },
     "inputWidgets": {},
     "nuid": "2d9d3114-415f-4732-905f-dee624852054",
     "showTitle": false,
     "title": ""
    }
   },
   "outputs": [
    {
     "output_type": "execute_result",
     "data": {
      "text/html": [
       "<div>\n",
       "<style scoped>\n",
       "    .dataframe tbody tr th:only-of-type {\n",
       "        vertical-align: middle;\n",
       "    }\n",
       "\n",
       "    .dataframe tbody tr th {\n",
       "        vertical-align: top;\n",
       "    }\n",
       "\n",
       "    .dataframe thead th {\n",
       "        text-align: right;\n",
       "    }\n",
       "</style>\n",
       "<table border=\"1\" class=\"dataframe\">\n",
       "  <thead>\n",
       "    <tr style=\"text-align: right;\">\n",
       "      <th></th>\n",
       "      <th>T3</th>\n",
       "      <th>T3level</th>\n",
       "      <th>T4</th>\n",
       "      <th>T4level</th>\n",
       "      <th>TSH</th>\n",
       "      <th>TSHlevel</th>\n",
       "      <th>ThyroidDisease</th>\n",
       "    </tr>\n",
       "  </thead>\n",
       "  <tbody>\n",
       "    <tr>\n",
       "      <th>0</th>\n",
       "      <td>78.988280</td>\n",
       "      <td>Low</td>\n",
       "      <td>10.372534</td>\n",
       "      <td>Normal</td>\n",
       "      <td>3.705374</td>\n",
       "      <td>Normal</td>\n",
       "      <td>0</td>\n",
       "    </tr>\n",
       "    <tr>\n",
       "      <th>1</th>\n",
       "      <td>68.583006</td>\n",
       "      <td>Low</td>\n",
       "      <td>17.461578</td>\n",
       "      <td>High</td>\n",
       "      <td>1.178236</td>\n",
       "      <td>Normal</td>\n",
       "      <td>0</td>\n",
       "    </tr>\n",
       "    <tr>\n",
       "      <th>2</th>\n",
       "      <td>296.482041</td>\n",
       "      <td>High</td>\n",
       "      <td>5.983231</td>\n",
       "      <td>Normal</td>\n",
       "      <td>2.717792</td>\n",
       "      <td>Normal</td>\n",
       "      <td>0</td>\n",
       "    </tr>\n",
       "    <tr>\n",
       "      <th>3</th>\n",
       "      <td>145.809057</td>\n",
       "      <td>Normal</td>\n",
       "      <td>7.343374</td>\n",
       "      <td>Normal</td>\n",
       "      <td>2.281610</td>\n",
       "      <td>Normal</td>\n",
       "      <td>NormalThyroid</td>\n",
       "    </tr>\n",
       "    <tr>\n",
       "      <th>4</th>\n",
       "      <td>116.942268</td>\n",
       "      <td>Normal</td>\n",
       "      <td>10.228432</td>\n",
       "      <td>Normal</td>\n",
       "      <td>1.943732</td>\n",
       "      <td>Normal</td>\n",
       "      <td>NormalThyroid</td>\n",
       "    </tr>\n",
       "    <tr>\n",
       "      <th>...</th>\n",
       "      <td>...</td>\n",
       "      <td>...</td>\n",
       "      <td>...</td>\n",
       "      <td>...</td>\n",
       "      <td>...</td>\n",
       "      <td>...</td>\n",
       "      <td>...</td>\n",
       "    </tr>\n",
       "    <tr>\n",
       "      <th>999995</th>\n",
       "      <td>192.125913</td>\n",
       "      <td>Normal</td>\n",
       "      <td>8.700890</td>\n",
       "      <td>Normal</td>\n",
       "      <td>4.713134</td>\n",
       "      <td>High</td>\n",
       "      <td>0</td>\n",
       "    </tr>\n",
       "    <tr>\n",
       "      <th>999996</th>\n",
       "      <td>47.760126</td>\n",
       "      <td>Low</td>\n",
       "      <td>8.544861</td>\n",
       "      <td>Normal</td>\n",
       "      <td>-0.609541</td>\n",
       "      <td>Low</td>\n",
       "      <td>0</td>\n",
       "    </tr>\n",
       "    <tr>\n",
       "      <th>999997</th>\n",
       "      <td>194.445028</td>\n",
       "      <td>Normal</td>\n",
       "      <td>6.118785</td>\n",
       "      <td>Normal</td>\n",
       "      <td>3.589772</td>\n",
       "      <td>Normal</td>\n",
       "      <td>NormalThyroid</td>\n",
       "    </tr>\n",
       "    <tr>\n",
       "      <th>999998</th>\n",
       "      <td>175.119358</td>\n",
       "      <td>Normal</td>\n",
       "      <td>12.658539</td>\n",
       "      <td>High</td>\n",
       "      <td>0.278695</td>\n",
       "      <td>Low</td>\n",
       "      <td>0</td>\n",
       "    </tr>\n",
       "    <tr>\n",
       "      <th>999999</th>\n",
       "      <td>144.305670</td>\n",
       "      <td>Normal</td>\n",
       "      <td>5.518029</td>\n",
       "      <td>Normal</td>\n",
       "      <td>0.977962</td>\n",
       "      <td>Normal</td>\n",
       "      <td>NormalThyroid</td>\n",
       "    </tr>\n",
       "  </tbody>\n",
       "</table>\n",
       "<p>1000000 rows × 7 columns</p>\n",
       "</div>"
      ],
      "text/plain": [
       "                T3 T3level         T4 T4level       TSH TSHlevel ThyroidDisease\n",
       "0        78.988280     Low  10.372534  Normal  3.705374   Normal              0\n",
       "1        68.583006     Low  17.461578    High  1.178236   Normal              0\n",
       "2       296.482041    High   5.983231  Normal  2.717792   Normal              0\n",
       "3       145.809057  Normal   7.343374  Normal  2.281610   Normal  NormalThyroid\n",
       "4       116.942268  Normal  10.228432  Normal  1.943732   Normal  NormalThyroid\n",
       "...            ...     ...        ...     ...       ...      ...            ...\n",
       "999995  192.125913  Normal   8.700890  Normal  4.713134     High              0\n",
       "999996   47.760126     Low   8.544861  Normal -0.609541      Low              0\n",
       "999997  194.445028  Normal   6.118785  Normal  3.589772   Normal  NormalThyroid\n",
       "999998  175.119358  Normal  12.658539    High  0.278695      Low              0\n",
       "999999  144.305670  Normal   5.518029  Normal  0.977962   Normal  NormalThyroid\n",
       "\n",
       "[1000000 rows x 7 columns]"
      ]
     },
     "execution_count": 21,
     "metadata": {},
     "output_type": "execute_result"
    }
   ],
   "source": [
    "thyroid_df"
   ]
  },
  {
   "cell_type": "code",
   "execution_count": 0,
   "metadata": {
    "application/vnd.databricks.v1+cell": {
     "cellMetadata": {
      "byteLimit": 2048000,
      "rowLimit": 10000
     },
     "inputWidgets": {},
     "nuid": "0df4e641-ab61-4650-a54a-48be5acb0323",
     "showTitle": false,
     "title": ""
    }
   },
   "outputs": [],
   "source": [
    "y = thyroid_df[((thyroid_df['T3level'] == 'Normal')&(thyroid_df['T4level'] == 'Normal')&(thyroid_df['TSHlevel'] == 'Normal'))]"
   ]
  },
  {
   "cell_type": "code",
   "execution_count": 0,
   "metadata": {
    "application/vnd.databricks.v1+cell": {
     "cellMetadata": {
      "byteLimit": 2048000,
      "rowLimit": 10000
     },
     "inputWidgets": {},
     "nuid": "109d64bb-5835-4022-86be-8fc59dfd6d72",
     "showTitle": false,
     "title": ""
    }
   },
   "outputs": [
    {
     "output_type": "execute_result",
     "data": {
      "text/html": [
       "<div>\n",
       "<style scoped>\n",
       "    .dataframe tbody tr th:only-of-type {\n",
       "        vertical-align: middle;\n",
       "    }\n",
       "\n",
       "    .dataframe tbody tr th {\n",
       "        vertical-align: top;\n",
       "    }\n",
       "\n",
       "    .dataframe thead th {\n",
       "        text-align: right;\n",
       "    }\n",
       "</style>\n",
       "<table border=\"1\" class=\"dataframe\">\n",
       "  <thead>\n",
       "    <tr style=\"text-align: right;\">\n",
       "      <th></th>\n",
       "      <th>T3</th>\n",
       "      <th>T3level</th>\n",
       "      <th>T4</th>\n",
       "      <th>T4level</th>\n",
       "      <th>TSH</th>\n",
       "      <th>TSHlevel</th>\n",
       "      <th>ThyroidDisease</th>\n",
       "    </tr>\n",
       "  </thead>\n",
       "  <tbody>\n",
       "    <tr>\n",
       "      <th>3</th>\n",
       "      <td>145.809057</td>\n",
       "      <td>Normal</td>\n",
       "      <td>7.343374</td>\n",
       "      <td>Normal</td>\n",
       "      <td>2.281610</td>\n",
       "      <td>Normal</td>\n",
       "      <td>NormalThyroid</td>\n",
       "    </tr>\n",
       "    <tr>\n",
       "      <th>4</th>\n",
       "      <td>116.942268</td>\n",
       "      <td>Normal</td>\n",
       "      <td>10.228432</td>\n",
       "      <td>Normal</td>\n",
       "      <td>1.943732</td>\n",
       "      <td>Normal</td>\n",
       "      <td>NormalThyroid</td>\n",
       "    </tr>\n",
       "    <tr>\n",
       "      <th>7</th>\n",
       "      <td>126.453081</td>\n",
       "      <td>Normal</td>\n",
       "      <td>4.802115</td>\n",
       "      <td>Normal</td>\n",
       "      <td>2.645084</td>\n",
       "      <td>Normal</td>\n",
       "      <td>NormalThyroid</td>\n",
       "    </tr>\n",
       "    <tr>\n",
       "      <th>9</th>\n",
       "      <td>198.076787</td>\n",
       "      <td>Normal</td>\n",
       "      <td>7.752638</td>\n",
       "      <td>Normal</td>\n",
       "      <td>0.313647</td>\n",
       "      <td>Normal</td>\n",
       "      <td>NormalThyroid</td>\n",
       "    </tr>\n",
       "    <tr>\n",
       "      <th>11</th>\n",
       "      <td>189.194107</td>\n",
       "      <td>Normal</td>\n",
       "      <td>7.928093</td>\n",
       "      <td>Normal</td>\n",
       "      <td>0.380515</td>\n",
       "      <td>Normal</td>\n",
       "      <td>NormalThyroid</td>\n",
       "    </tr>\n",
       "    <tr>\n",
       "      <th>...</th>\n",
       "      <td>...</td>\n",
       "      <td>...</td>\n",
       "      <td>...</td>\n",
       "      <td>...</td>\n",
       "      <td>...</td>\n",
       "      <td>...</td>\n",
       "      <td>...</td>\n",
       "    </tr>\n",
       "    <tr>\n",
       "      <th>999990</th>\n",
       "      <td>118.237639</td>\n",
       "      <td>Normal</td>\n",
       "      <td>6.694549</td>\n",
       "      <td>Normal</td>\n",
       "      <td>1.042351</td>\n",
       "      <td>Normal</td>\n",
       "      <td>NormalThyroid</td>\n",
       "    </tr>\n",
       "    <tr>\n",
       "      <th>999992</th>\n",
       "      <td>196.273759</td>\n",
       "      <td>Normal</td>\n",
       "      <td>5.976421</td>\n",
       "      <td>Normal</td>\n",
       "      <td>2.775348</td>\n",
       "      <td>Normal</td>\n",
       "      <td>NormalThyroid</td>\n",
       "    </tr>\n",
       "    <tr>\n",
       "      <th>999994</th>\n",
       "      <td>180.285457</td>\n",
       "      <td>Normal</td>\n",
       "      <td>12.334907</td>\n",
       "      <td>Normal</td>\n",
       "      <td>1.281634</td>\n",
       "      <td>Normal</td>\n",
       "      <td>NormalThyroid</td>\n",
       "    </tr>\n",
       "    <tr>\n",
       "      <th>999997</th>\n",
       "      <td>194.445028</td>\n",
       "      <td>Normal</td>\n",
       "      <td>6.118785</td>\n",
       "      <td>Normal</td>\n",
       "      <td>3.589772</td>\n",
       "      <td>Normal</td>\n",
       "      <td>NormalThyroid</td>\n",
       "    </tr>\n",
       "    <tr>\n",
       "      <th>999999</th>\n",
       "      <td>144.305670</td>\n",
       "      <td>Normal</td>\n",
       "      <td>5.518029</td>\n",
       "      <td>Normal</td>\n",
       "      <td>0.977962</td>\n",
       "      <td>Normal</td>\n",
       "      <td>NormalThyroid</td>\n",
       "    </tr>\n",
       "  </tbody>\n",
       "</table>\n",
       "<p>365869 rows × 7 columns</p>\n",
       "</div>"
      ],
      "text/plain": [
       "                T3 T3level         T4 T4level       TSH TSHlevel ThyroidDisease\n",
       "3       145.809057  Normal   7.343374  Normal  2.281610   Normal  NormalThyroid\n",
       "4       116.942268  Normal  10.228432  Normal  1.943732   Normal  NormalThyroid\n",
       "7       126.453081  Normal   4.802115  Normal  2.645084   Normal  NormalThyroid\n",
       "9       198.076787  Normal   7.752638  Normal  0.313647   Normal  NormalThyroid\n",
       "11      189.194107  Normal   7.928093  Normal  0.380515   Normal  NormalThyroid\n",
       "...            ...     ...        ...     ...       ...      ...            ...\n",
       "999990  118.237639  Normal   6.694549  Normal  1.042351   Normal  NormalThyroid\n",
       "999992  196.273759  Normal   5.976421  Normal  2.775348   Normal  NormalThyroid\n",
       "999994  180.285457  Normal  12.334907  Normal  1.281634   Normal  NormalThyroid\n",
       "999997  194.445028  Normal   6.118785  Normal  3.589772   Normal  NormalThyroid\n",
       "999999  144.305670  Normal   5.518029  Normal  0.977962   Normal  NormalThyroid\n",
       "\n",
       "[365869 rows x 7 columns]"
      ]
     },
     "execution_count": 23,
     "metadata": {},
     "output_type": "execute_result"
    }
   ],
   "source": [
    "y"
   ]
  },
  {
   "cell_type": "code",
   "execution_count": 0,
   "metadata": {
    "application/vnd.databricks.v1+cell": {
     "cellMetadata": {
      "byteLimit": 2048000,
      "rowLimit": 10000
     },
     "inputWidgets": {},
     "nuid": "1ecc3a87-1426-4514-821a-79be97155f0f",
     "showTitle": false,
     "title": ""
    }
   },
   "outputs": [],
   "source": [
    "# 3. Train a model to predict disease"
   ]
  },
  {
   "cell_type": "code",
   "execution_count": 0,
   "metadata": {
    "application/vnd.databricks.v1+cell": {
     "cellMetadata": {
      "byteLimit": 2048000,
      "rowLimit": 10000
     },
     "inputWidgets": {},
     "nuid": "b604b021-d48c-4f9d-949a-5b622aab170e",
     "showTitle": false,
     "title": ""
    }
   },
   "outputs": [],
   "source": [
    "from sklearn.ensemble import RandomForestRegressor\n",
    "from xgboost import XGBRegressor\n",
    "from sklearn.model_selection import train_test_split\n",
    "from sklearn.preprocessing import OneHotEncoder\n",
    "from sklearn.metrics import mean_squared_error, mean_absolute_error, r2_score\n",
    "import matplotlib.pyplot as plt\n",
    "from sklearn.model_selection import GridSearchCV\n",
    "from sklearn.pipeline import Pipeline\n",
    "import seaborn as sns\n",
    "import datetime\n",
    "import warnings\n"
   ]
  },
  {
   "cell_type": "code",
   "execution_count": 0,
   "metadata": {
    "application/vnd.databricks.v1+cell": {
     "cellMetadata": {
      "byteLimit": 2048000,
      "rowLimit": 10000
     },
     "inputWidgets": {},
     "nuid": "d3220d83-b999-474d-8f3a-2720c7390a5a",
     "showTitle": false,
     "title": ""
    }
   },
   "outputs": [],
   "source": [
    "# Split the data into target y and independent X features\n",
    "target = thyroid_df[['ThyroidDisease']]\n",
    "conditions = [(target['ThyroidDisease']=='Hyperthyroidism'), \n",
    "              (target['ThyroidDisease']=='NormalThyroid'), \n",
    "              (target['ThyroidDisease']=='Hypothyroidism')]\n",
    "values = [-1,0,1]\n",
    "y = np.select(conditions, values)\n"
   ]
  },
  {
   "cell_type": "code",
   "execution_count": 0,
   "metadata": {
    "application/vnd.databricks.v1+cell": {
     "cellMetadata": {
      "byteLimit": 2048000,
      "rowLimit": 10000
     },
     "inputWidgets": {},
     "nuid": "c22864ad-a138-42f9-b785-97064a44a99f",
     "showTitle": false,
     "title": ""
    }
   },
   "outputs": [
    {
     "output_type": "execute_result",
     "data": {
      "text/plain": [
       "array([0, 0, 0, 0, 0, 0, 0, 0, 0, 0, 0, 0, 0, 0, 0, 0, 0, 0, 0, 0, 0, 0,\n",
       "       0, 0, 0, 0, 0, 0, 0, 0, 0, 0, 0, 0, 0, 0, 0, 0, 0, 0, 0, 0, 0, 0,\n",
       "       0, 0, 0, 0, 0, 0, 0, 0, 0, 0, 0, 0, 0, 1, 0, 0, 0, 0, 0, 0, 0, 0,\n",
       "       0, 0, 0, 0, 0, 0, 0, 0, 0, 0, 0, 0, 0, 0, 0, 0, 0, 0, 0, 0, 0, 0,\n",
       "       0, 0, 0, 0, 0, 0, 0, 0, 0, 0, 0, 0])"
      ]
     },
     "execution_count": 27,
     "metadata": {},
     "output_type": "execute_result"
    }
   ],
   "source": [
    "y[:100]"
   ]
  },
  {
   "cell_type": "code",
   "execution_count": 0,
   "metadata": {
    "application/vnd.databricks.v1+cell": {
     "cellMetadata": {
      "byteLimit": 2048000,
      "rowLimit": 10000
     },
     "inputWidgets": {},
     "nuid": "b91b86b2-82e8-4004-a548-ca59ce525683",
     "showTitle": false,
     "title": ""
    }
   },
   "outputs": [],
   "source": [
    "X = thyroid_df.loc[:, ['T3','T4','TSH']]"
   ]
  },
  {
   "cell_type": "code",
   "execution_count": 0,
   "metadata": {
    "application/vnd.databricks.v1+cell": {
     "cellMetadata": {
      "byteLimit": 2048000,
      "rowLimit": 10000
     },
     "inputWidgets": {},
     "nuid": "7450d673-08de-4aa6-84ed-38f140d003cd",
     "showTitle": false,
     "title": ""
    }
   },
   "outputs": [
    {
     "output_type": "execute_result",
     "data": {
      "text/html": [
       "<div>\n",
       "<style scoped>\n",
       "    .dataframe tbody tr th:only-of-type {\n",
       "        vertical-align: middle;\n",
       "    }\n",
       "\n",
       "    .dataframe tbody tr th {\n",
       "        vertical-align: top;\n",
       "    }\n",
       "\n",
       "    .dataframe thead th {\n",
       "        text-align: right;\n",
       "    }\n",
       "</style>\n",
       "<table border=\"1\" class=\"dataframe\">\n",
       "  <thead>\n",
       "    <tr style=\"text-align: right;\">\n",
       "      <th></th>\n",
       "      <th>T3</th>\n",
       "      <th>T4</th>\n",
       "      <th>TSH</th>\n",
       "    </tr>\n",
       "  </thead>\n",
       "  <tbody>\n",
       "    <tr>\n",
       "      <th>0</th>\n",
       "      <td>78.988280</td>\n",
       "      <td>10.372534</td>\n",
       "      <td>3.705374</td>\n",
       "    </tr>\n",
       "    <tr>\n",
       "      <th>1</th>\n",
       "      <td>68.583006</td>\n",
       "      <td>17.461578</td>\n",
       "      <td>1.178236</td>\n",
       "    </tr>\n",
       "    <tr>\n",
       "      <th>2</th>\n",
       "      <td>296.482041</td>\n",
       "      <td>5.983231</td>\n",
       "      <td>2.717792</td>\n",
       "    </tr>\n",
       "    <tr>\n",
       "      <th>3</th>\n",
       "      <td>145.809057</td>\n",
       "      <td>7.343374</td>\n",
       "      <td>2.281610</td>\n",
       "    </tr>\n",
       "    <tr>\n",
       "      <th>4</th>\n",
       "      <td>116.942268</td>\n",
       "      <td>10.228432</td>\n",
       "      <td>1.943732</td>\n",
       "    </tr>\n",
       "    <tr>\n",
       "      <th>...</th>\n",
       "      <td>...</td>\n",
       "      <td>...</td>\n",
       "      <td>...</td>\n",
       "    </tr>\n",
       "    <tr>\n",
       "      <th>999995</th>\n",
       "      <td>192.125913</td>\n",
       "      <td>8.700890</td>\n",
       "      <td>4.713134</td>\n",
       "    </tr>\n",
       "    <tr>\n",
       "      <th>999996</th>\n",
       "      <td>47.760126</td>\n",
       "      <td>8.544861</td>\n",
       "      <td>-0.609541</td>\n",
       "    </tr>\n",
       "    <tr>\n",
       "      <th>999997</th>\n",
       "      <td>194.445028</td>\n",
       "      <td>6.118785</td>\n",
       "      <td>3.589772</td>\n",
       "    </tr>\n",
       "    <tr>\n",
       "      <th>999998</th>\n",
       "      <td>175.119358</td>\n",
       "      <td>12.658539</td>\n",
       "      <td>0.278695</td>\n",
       "    </tr>\n",
       "    <tr>\n",
       "      <th>999999</th>\n",
       "      <td>144.305670</td>\n",
       "      <td>5.518029</td>\n",
       "      <td>0.977962</td>\n",
       "    </tr>\n",
       "  </tbody>\n",
       "</table>\n",
       "<p>1000000 rows × 3 columns</p>\n",
       "</div>"
      ],
      "text/plain": [
       "                T3         T4       TSH\n",
       "0        78.988280  10.372534  3.705374\n",
       "1        68.583006  17.461578  1.178236\n",
       "2       296.482041   5.983231  2.717792\n",
       "3       145.809057   7.343374  2.281610\n",
       "4       116.942268  10.228432  1.943732\n",
       "...            ...        ...       ...\n",
       "999995  192.125913   8.700890  4.713134\n",
       "999996   47.760126   8.544861 -0.609541\n",
       "999997  194.445028   6.118785  3.589772\n",
       "999998  175.119358  12.658539  0.278695\n",
       "999999  144.305670   5.518029  0.977962\n",
       "\n",
       "[1000000 rows x 3 columns]"
      ]
     },
     "execution_count": 29,
     "metadata": {},
     "output_type": "execute_result"
    }
   ],
   "source": [
    "X"
   ]
  },
  {
   "cell_type": "code",
   "execution_count": 0,
   "metadata": {
    "application/vnd.databricks.v1+cell": {
     "cellMetadata": {
      "byteLimit": 2048000,
      "rowLimit": 10000
     },
     "inputWidgets": {},
     "nuid": "e154225b-92e5-46f5-ac36-48ecc5cafb07",
     "showTitle": false,
     "title": ""
    }
   },
   "outputs": [],
   "source": [
    "# Split the data into training and test set\n",
    "X_train, X_test, y_train, y_test = train_test_split(X, y, test_size = 0.25)"
   ]
  },
  {
   "cell_type": "code",
   "execution_count": 0,
   "metadata": {
    "application/vnd.databricks.v1+cell": {
     "cellMetadata": {
      "byteLimit": 2048000,
      "rowLimit": 10000
     },
     "inputWidgets": {},
     "nuid": "a184a133-2ee9-4b72-97b7-4c2f56262432",
     "showTitle": false,
     "title": ""
    }
   },
   "outputs": [],
   "source": [
    "#%sh pip install --upgrade mlflow"
   ]
  },
  {
   "cell_type": "code",
   "execution_count": 0,
   "metadata": {
    "application/vnd.databricks.v1+cell": {
     "cellMetadata": {
      "byteLimit": 2048000,
      "rowLimit": 10000
     },
     "inputWidgets": {},
     "nuid": "a7330994-55cc-4f93-a26c-e09463c384bf",
     "showTitle": false,
     "title": ""
    }
   },
   "outputs": [],
   "source": [
    "#%sh pip install databricks-cli"
   ]
  },
  {
   "cell_type": "code",
   "execution_count": 0,
   "metadata": {
    "application/vnd.databricks.v1+cell": {
     "cellMetadata": {
      "byteLimit": 2048000,
      "rowLimit": 10000
     },
     "inputWidgets": {},
     "nuid": "77acaafe-3a3d-4eaa-a470-f6326f4a839d",
     "showTitle": false,
     "title": ""
    }
   },
   "outputs": [
    {
     "output_type": "display_data",
     "data": {
      "text/html": [
       "<style scoped>\n",
       "  .ansiout {\n",
       "    display: block;\n",
       "    unicode-bidi: embed;\n",
       "    white-space: pre-wrap;\n",
       "    word-wrap: break-word;\n",
       "    word-break: break-all;\n",
       "    font-family: \"Menlo\", \"Monaco\", \"Consolas\", \"Ubuntu Mono\", \"Source Code Pro\", monospace;\n",
       "    font-size: 13px;\n",
       "    color: #555;\n",
       "    margin-left: 4px;\n",
       "    line-height: 19px;\n",
       "  }\n",
       "</style>\n",
       "<div class=\"ansiout\">res0: Boolean = true\n",
       "</div>"
      ]
     },
     "metadata": {
      "application/vnd.databricks.v1+output": {
       "addedWidgets": {},
       "arguments": {},
       "data": "<div class=\"ansiout\">res0: Boolean = true\n</div>",
       "datasetInfos": [],
       "metadata": {
        "isDbfsCommandResult": false
       },
       "removedWidgets": [],
       "type": "html"
      }
     },
     "output_type": "display_data"
    }
   ],
   "source": [
    "%fs mkdirs /mnt/myCatalog"
   ]
  },
  {
   "cell_type": "code",
   "execution_count": 0,
   "metadata": {
    "application/vnd.databricks.v1+cell": {
     "cellMetadata": {
      "byteLimit": 2048000,
      "rowLimit": 10000
     },
     "inputWidgets": {},
     "nuid": "88038cbb-12d3-41e4-826b-5616d507b55b",
     "showTitle": false,
     "title": ""
    }
   },
   "outputs": [
    {
     "output_type": "display_data",
     "data": {
      "text/html": [
       "<style scoped>\n",
       "  .table-result-container {\n",
       "    max-height: 300px;\n",
       "    overflow: auto;\n",
       "  }\n",
       "  table, th, td {\n",
       "    border: 1px solid black;\n",
       "    border-collapse: collapse;\n",
       "  }\n",
       "  th, td {\n",
       "    padding: 5px;\n",
       "  }\n",
       "  th {\n",
       "    text-align: left;\n",
       "  }\n",
       "</style><div class='table-result-container'><table class='table-result'><thead style='background-color: white'><tr><th>path</th><th>name</th><th>size</th><th>modificationTime</th></tr></thead><tbody><tr><td>dbfs:/mnt/myCatalog/</td><td>myCatalog/</td><td>0</td><td>1722522544856</td></tr></tbody></table></div>"
      ]
     },
     "metadata": {
      "application/vnd.databricks.v1+output": {
       "addedWidgets": {},
       "aggData": [],
       "aggError": "",
       "aggOverflow": false,
       "aggSchema": [],
       "aggSeriesLimitReached": false,
       "aggType": "",
       "arguments": {},
       "columnCustomDisplayInfos": {},
       "data": [
        [
         "dbfs:/mnt/myCatalog/",
         "myCatalog/",
         0,
         1722522544856
        ]
       ],
       "datasetInfos": [],
       "dbfsResultPath": null,
       "isJsonSchema": true,
       "metadata": {
        "isDbfsCommandResult": false
       },
       "overflow": false,
       "plotOptions": {
        "customPlotOptions": {},
        "displayType": "table",
        "pivotAggregation": null,
        "pivotColumns": null,
        "xColumns": null,
        "yColumns": null
       },
       "removedWidgets": [],
       "schema": [
        {
         "metadata": "{}",
         "name": "path",
         "type": "\"string\""
        },
        {
         "metadata": "{}",
         "name": "name",
         "type": "\"string\""
        },
        {
         "metadata": "{}",
         "name": "size",
         "type": "\"long\""
        },
        {
         "metadata": "{}",
         "name": "modificationTime",
         "type": "\"long\""
        }
       ],
       "type": "table"
      }
     },
     "output_type": "display_data"
    }
   ],
   "source": [
    "%fs ls /mnt"
   ]
  },
  {
   "cell_type": "code",
   "execution_count": 0,
   "metadata": {
    "application/vnd.databricks.v1+cell": {
     "cellMetadata": {
      "byteLimit": 2048000,
      "rowLimit": 10000
     },
     "inputWidgets": {},
     "nuid": "2cdfbd57-0d58-47c6-8b7a-163a511a7676",
     "showTitle": false,
     "title": ""
    }
   },
   "outputs": [],
   "source": [
    "import mlflow\n",
    "import mlflow.pyfunc\n",
    "from mlflow.models.signature import infer_signature"
   ]
  },
  {
   "cell_type": "code",
   "execution_count": 0,
   "metadata": {
    "application/vnd.databricks.v1+cell": {
     "cellMetadata": {
      "byteLimit": 2048000,
      "rowLimit": 10000
     },
     "inputWidgets": {},
     "nuid": "35ce5964-b7cb-41ad-8731-d34686300b4c",
     "showTitle": false,
     "title": ""
    }
   },
   "outputs": [
    {
     "output_type": "stream",
     "name": "stdout",
     "output_type": "stream",
     "text": [
      "aws-cli/2.17.20 Python/3.11.9 Linux/5.15.0-1065-aws exe/x86_64.ubuntu.22\n"
     ]
    }
   ],
   "source": [
    "%sh\n",
    "aws --version"
   ]
  },
  {
   "cell_type": "code",
   "execution_count": 0,
   "metadata": {
    "application/vnd.databricks.v1+cell": {
     "cellMetadata": {
      "byteLimit": 2048000,
      "rowLimit": 10000
     },
     "inputWidgets": {},
     "nuid": "bc5dc6c9-c62b-4bf3-a94e-fbf5fca43acc",
     "showTitle": false,
     "title": ""
    }
   },
   "outputs": [],
   "source": [
    "import os\n",
    "os.environ['AWS_ACCESS_KEY_ID'] = ''\n",
    "os.environ['AWS_SECRET_ACCESS_KEY'] = ''\n",
    "os.environ['AWS_DEFAULT_REGION'] = ''"
   ]
  },
  {
   "cell_type": "code",
   "execution_count": 0,
   "metadata": {
    "application/vnd.databricks.v1+cell": {
     "cellMetadata": {
      "byteLimit": 2048000,
      "rowLimit": 10000
     },
     "inputWidgets": {},
     "nuid": "2d2c6d09-e398-436e-8561-4f6d97420562",
     "showTitle": false,
     "title": ""
    }
   },
   "outputs": [
    {
     "output_type": "stream",
     "name": "stdout",
     "output_type": "stream",
     "text": [
      "+------------------+------------------+-----------------+------------------+------------------+----------+\n|             SP500|            Nasdaq|       WilshireRE|              Gold|            OilWTI|      Date|\n+------------------+------------------+-----------------+------------------+------------------+----------+\n| 1258.094206105263| 2380.772114052631|87.69157894736843|287.55263157894734|12.750526315789477|1999-01-01|\n| 1258.328433368421| 2391.417351894737| 85.1384210526316|289.69473684210527|12.258421052631581|1999-02-01|\n|1289.9308710869564|  2413.03172773913|83.49826086956521| 286.0347826086957|14.890434782608697|1999-03-01|\n|1343.8276192857143|2571.1285924285717|87.19714285714285| 283.2619047619048|17.502857142857142|1999-04-01|\n|1342.9494934000002|2539.8825195999993|93.14150000000002|            277.13|18.032000000000004|1999-05-01|\n|1329.4713746363636|2543.7141000909087|91.62454545454547| 263.0545454545454|18.133636363636366|1999-06-01|\n|1390.0861989999996|  2763.56096547619|88.08571428571429| 256.4380952380953|20.307619047619045|1999-07-01|\n|1337.5727261363634|2669.0108974545456| 84.5190909090909|258.34999999999997| 21.45863636363636|1999-08-01|\n|1328.2009684761908|2832.9257230476196|82.23476190476192|             266.2|24.036190476190477|1999-09-01|\n| 1309.339529904762| 2835.653320285715|            78.15| 311.6190476190476|23.124285714285712|1999-10-01|\n|1399.5023773809528| 3254.931442904762|77.96333333333334|279.93809523809523|23.938095238095237|1999-11-01|\n| 1435.969099590909|3764.8163618636363|75.81409090909091| 272.3863636363636|25.226363636363637|1999-12-01|\n|      1441.5544983|4081.6429809499996|          79.7525|270.99000000000007|26.062500000000007|2000-01-01|\n|     1401.42650145|     4448.16651615|            77.61|            303.38|            29.629|2000-02-01|\n|1455.7195620434782| 4894.349120999999|77.44652173913043| 286.0652173913044|30.490434782608695|2000-03-01|\n|1479.0542055789474|3986.9037058421054| 82.2363157894737| 281.1842105263158| 25.93421052631579|2000-04-01|\n|1433.1213767272725|3601.7018044090905|86.02863636363638| 275.0636363636363|29.213181818181827|2000-05-01|\n| 1471.881375409091|3910.8313654090907|88.06090909090909|287.04090909090917|31.944090909090907|2000-06-01|\n|1484.3020018999998|4067.8145265000007|91.88999999999999|           266.735|            28.713|2000-07-01|\n| 1491.999554217391|3943.9269700434784|93.63043478260872| 274.9304347826087|  31.5991304347826|2000-08-01|\n+------------------+------------------+-----------------+------------------+------------------+----------+\nonly showing top 20 rows\n\n"
     ]
    }
   ],
   "source": [
    "# Configure AWS S3 access keys (if not using IAM roles)\n",
    "spark.conf.set(\"fs.s3a.access.key\", \"\")\n",
    "spark.conf.set(\"fs.s3a.secret.key\", \"\")\n",
    "\n",
    "# Read data from S3\n",
    "df = spark.read.csv(\"s3://databricks-workspace-stack-f4dd7-bucket/ns_awsdatabricks_bucket/USAssetMthlyPriceData.csv\", header=True, inferSchema=True)\n",
    "\n",
    "# Show the DataFrame\n",
    "df.show()\n",
    "\n"
   ]
  },
  {
   "cell_type": "code",
   "execution_count": 0,
   "metadata": {
    "application/vnd.databricks.v1+cell": {
     "cellMetadata": {
      "byteLimit": 2048000,
      "rowLimit": 10000
     },
     "inputWidgets": {},
     "nuid": "43f8437c-fc25-4dcf-87a0-17431d52cd6d",
     "showTitle": false,
     "title": ""
    }
   },
   "outputs": [
    {
     "output_type": "stream",
     "name": "stdout",
     "output_type": "stream",
     "text": [
      "+-----+------+----------+----+------+----+\n|SP500|Nasdaq|WilshireRE|Gold|OilWTI|Date|\n+-----+------+----------+----+------+----+\n+-----+------+----------+----+------+----+\n\n"
     ]
    }
   ],
   "source": [
    "# Perform some transformation\n",
    "df_filtered = df.filter(df['Date'] > \"01/01/2000\")\n",
    "\n",
    "df_filtered.show()\n",
    "\n",
    "# Write the transformed data back to S3\n",
    "df_filtered.write.mode(\"overwrite\").csv(\"s3://databricks-workspace-stack-f4dd7-bucket/ns_awsdatabricks_bucket/SP500Nasdaq2000MthlyPriceData.csv\")\n"
   ]
  },
  {
   "cell_type": "code",
   "execution_count": 0,
   "metadata": {
    "application/vnd.databricks.v1+cell": {
     "cellMetadata": {
      "byteLimit": 2048000,
      "implicitDf": true,
      "rowLimit": 10000
     },
     "inputWidgets": {},
     "nuid": "7199f664-c475-4c96-bf7b-3f2d0105e432",
     "showTitle": false,
     "title": ""
    }
   },
   "outputs": [
    {
     "output_type": "display_data",
     "data": {
      "text/html": [
       "<style scoped>\n",
       "  .table-result-container {\n",
       "    max-height: 300px;\n",
       "    overflow: auto;\n",
       "  }\n",
       "  table, th, td {\n",
       "    border: 1px solid black;\n",
       "    border-collapse: collapse;\n",
       "  }\n",
       "  th, td {\n",
       "    padding: 5px;\n",
       "  }\n",
       "  th {\n",
       "    text-align: left;\n",
       "  }\n",
       "</style><div class='table-result-container'><table class='table-result'><thead style='background-color: white'><tr><th>current_catalog()</th></tr></thead><tbody><tr><td>nsawsdatabricks</td></tr></tbody></table></div>"
      ]
     },
     "metadata": {
      "application/vnd.databricks.v1+output": {
       "addedWidgets": {},
       "aggData": [],
       "aggError": "",
       "aggOverflow": false,
       "aggSchema": [],
       "aggSeriesLimitReached": false,
       "aggType": "",
       "arguments": {},
       "columnCustomDisplayInfos": {},
       "data": [
        [
         "nsawsdatabricks"
        ]
       ],
       "datasetInfos": [],
       "dbfsResultPath": null,
       "isJsonSchema": true,
       "metadata": {
        "dataframeName": "_sqldf",
        "executionCount": 38
       },
       "overflow": false,
       "plotOptions": {
        "customPlotOptions": {},
        "displayType": "table",
        "pivotAggregation": null,
        "pivotColumns": null,
        "xColumns": null,
        "yColumns": null
       },
       "removedWidgets": [],
       "schema": [
        {
         "metadata": "{\"__autoGeneratedAlias\":\"true\"}",
         "name": "current_catalog()",
         "type": "\"string\""
        }
       ],
       "type": "table"
      }
     },
     "output_type": "display_data"
    }
   ],
   "source": [
    "%sql\n",
    "SELECT current_catalog();"
   ]
  },
  {
   "cell_type": "code",
   "execution_count": 0,
   "metadata": {
    "application/vnd.databricks.v1+cell": {
     "cellMetadata": {
      "byteLimit": 2048000,
      "rowLimit": 10000
     },
     "inputWidgets": {},
     "nuid": "6ee07d86-fb55-40cb-bfb9-843641a1a9fd",
     "showTitle": false,
     "title": ""
    }
   },
   "outputs": [],
   "source": [
    "# CATALOG_NAME = \"myCatalog\"\n",
    "# SCHEMA_NAME = \"default\"\n",
    "# my_user  = \"nitin singhal\"\n",
    "# MANAGED_LOCATION_PATH = \"dbfs:/mnt/\"\n",
    "\n",
    "# #spark.sql(f\"CREATE CATALOG IF NOT EXISTS {CATALOG_NAME}\")\n",
    "# spark.sql(f\"CREATE CATALOG IF NOT EXISTS {CATALOG_NAME} MANAGED LOCATION '{MANAGED_LOCATION_PATH}'\")"
   ]
  },
  {
   "cell_type": "code",
   "execution_count": 0,
   "metadata": {
    "application/vnd.databricks.v1+cell": {
     "cellMetadata": {
      "byteLimit": 2048000,
      "rowLimit": 10000
     },
     "inputWidgets": {},
     "nuid": "ee993c22-9954-404b-acc0-cf903c4627ea",
     "showTitle": false,
     "title": ""
    }
   },
   "outputs": [],
   "source": [
    "mlflow.set_registry_uri(\"databricks-uc\")\n",
    "#dbutils.library.restartPython()"
   ]
  },
  {
   "cell_type": "code",
   "execution_count": 0,
   "metadata": {
    "application/vnd.databricks.v1+cell": {
     "cellMetadata": {
      "byteLimit": 2048000,
      "rowLimit": 10000
     },
     "inputWidgets": {},
     "nuid": "68786084-7636-4bd1-b8c9-87b620c294f2",
     "showTitle": false,
     "title": ""
    }
   },
   "outputs": [
    {
     "output_type": "stream",
     "name": "stdout",
     "output_type": "stream",
     "text": [
      "Start time:  2024-08-01 14:29:28.567400\nEnd time:  2024-08-01 14:29:30.829550\nMSE:0.0001, RMSE:0.0110, MAE:0.0003, R2:0.9777\n"
     ]
    },
    {
     "output_type": "stream",
     "name": "stderr",
     "output_type": "stream",
     "text": [
      "/databricks/python/lib/python3.11/site-packages/xgboost/core.py:160: UserWarning: [14:29:31] WARNING: /workspace/src/c_api/c_api.cc:1240: Saving into deprecated binary model format, please consider using `json` or `ubj`. Model format will default to JSON in XGBoost 2.2 if not specified.\n  warnings.warn(smsg, UserWarning)\n/databricks/python/lib/python3.11/site-packages/_distutils_hack/__init__.py:33: UserWarning: Setuptools is replacing distutils.\n  warnings.warn(\"Setuptools is replacing distutils.\")\n"
     ]
    },
    {
     "output_type": "display_data",
     "data": {
      "application/vnd.jupyter.widget-view+json": {
       "model_id": "b447e10530724becac7ba1ac6d9ed677",
       "version_major": 2,
       "version_minor": 0
      },
      "text/plain": [
       "Uploading artifacts:   0%|          | 0/9 [00:00<?, ?it/s]"
      ]
     },
     "metadata": {},
     "output_type": "display_data"
    },
    {
     "output_type": "stream",
     "name": "stdout",
     "output_type": "stream",
     "text": [
      "Model logged successfully\nRun ID: b57d800ade444045b87661c34dab1ada\nModel artifacts path: dbfs:/databricks/mlflow-tracking/1403228684565640/b57d800ade444045b87661c34dab1ada/artifacts/model\n"
     ]
    }
   ],
   "source": [
    "with mlflow.start_run() as run:\n",
    "    # Build the regression model \n",
    "    # model = RandomForestRegressor(n_estimators=500, n_jobs=-1)\n",
    "    \n",
    "    # params = {\n",
    "    #     'objective': 'multi:softmax',\n",
    "    #     'num_class': 3,\n",
    "    #     'max_depth': 3,\n",
    "    #     'eta': 0.1,\n",
    "    # }\n",
    "\n",
    "    model = XGBRegressor()\n",
    "\n",
    "    print('Start time: ', datetime.datetime.now())\n",
    "    # Fit the model to the training data\n",
    "    model.fit(X_train, y_train)\n",
    "\n",
    "    # Using the model predict y values using the X_test data \n",
    "    y_pred = model.predict(X_test)\n",
    "\n",
    "    print('End time: ', datetime.datetime.now())\n",
    "\n",
    "    # Calculate error metrics for predicted y values vs y test data\n",
    "    mse = mean_squared_error(y_test , y_pred)\n",
    "    rmse = np.sqrt(mse)\n",
    "    mae = mean_absolute_error(y_test , y_pred)\n",
    "    r2 = r2_score(y_test , y_pred)\n",
    "    print('MSE:%.4f, RMSE:%.4f, MAE:%.4f, R2:%.4f' %(mse, rmse, mae, r2))\n",
    "\n",
    "    signature = infer_signature(X_test, y_pred)\n",
    "    mlflow.log_metric(\"accuracy\", mse)\n",
    "    \n",
    "    #mlflow.sklearn.log_model(model, \"XGBRegressorHealthcare\")\n",
    "    mlflow.xgboost.log_model(model, \"model\", signature=signature)\n",
    "\n",
    "    print(\"Model logged successfully\")\n",
    "\n",
    "run_id = run.info.run_id\n",
    "print(f\"Run ID: {run_id}\")\n",
    "\n",
    "artifact_uri = f\"dbfs:/databricks/mlflow-tracking/{run.info.experiment_id}/{run_id}/artifacts/model\"\n",
    "print(\"Model artifacts path:\", artifact_uri)"
   ]
  },
  {
   "cell_type": "code",
   "execution_count": 0,
   "metadata": {
    "application/vnd.databricks.v1+cell": {
     "cellMetadata": {
      "byteLimit": 2048000,
      "rowLimit": 10000
     },
     "inputWidgets": {},
     "nuid": "9a1863f2-8d86-4c45-949f-3a5826633c3b",
     "showTitle": false,
     "title": ""
    }
   },
   "outputs": [
    {
     "output_type": "stream",
     "name": "stderr",
     "output_type": "stream",
     "text": [
      "Registered model 'nsawsdatabricks.default.XGBRegressorHealthcare' already exists. Creating a new version of this model...\n"
     ]
    },
    {
     "output_type": "display_data",
     "data": {
      "application/vnd.jupyter.widget-view+json": {
       "model_id": "0f80f69d81c3434e805857c16b877a5a",
       "version_major": 2,
       "version_minor": 0
      },
      "text/plain": [
       "Downloading artifacts:   0%|          | 0/9 [00:00<?, ?it/s]"
      ]
     },
     "metadata": {},
     "output_type": "display_data"
    },
    {
     "output_type": "display_data",
     "data": {
      "application/vnd.jupyter.widget-view+json": {
       "model_id": "cbff07cb500e4de194fc138177302f43",
       "version_major": 2,
       "version_minor": 0
      },
      "text/plain": [
       "Uploading artifacts:   0%|          | 0/9 [00:00<?, ?it/s]"
      ]
     },
     "metadata": {},
     "output_type": "display_data"
    },
    {
     "output_type": "stream",
     "name": "stderr",
     "output_type": "stream",
     "text": [
      "Created version '4' of model 'nsawsdatabricks.default.xgbregressorhealthcare'.\n"
     ]
    },
    {
     "output_type": "execute_result",
     "data": {
      "text/plain": [
       "<ModelVersion: aliases=[], creation_timestamp=1722522581484, current_stage=None, description='', last_updated_timestamp=1722522583062, name='nsawsdatabricks.default.xgbregressorhealthcare', run_id='b57d800ade444045b87661c34dab1ada', run_link=None, source='dbfs:/databricks/mlflow-tracking/1403228684565640/b57d800ade444045b87661c34dab1ada/artifacts/model', status='READY', status_message='', tags={}, user_id='nitinsinghal@datawisdomx.com', version='4'>"
      ]
     },
     "execution_count": 42,
     "metadata": {},
     "output_type": "execute_result"
    }
   ],
   "source": [
    "CATALOG_NAME = \"nsawsdatabricks\"\n",
    "SCHEMA_NAME = \"default\"\n",
    "\n",
    "model_uri = 'runs:/{run_id}/model'.format(\n",
    "    run_id=run_id\n",
    "  )\n",
    "\n",
    "mlflow.register_model(model_uri, f\"{CATALOG_NAME}.{SCHEMA_NAME}.XGBRegressorHealthcare\")"
   ]
  },
  {
   "cell_type": "code",
   "execution_count": 0,
   "metadata": {
    "application/vnd.databricks.v1+cell": {
     "cellMetadata": {
      "byteLimit": 2048000,
      "rowLimit": 10000
     },
     "inputWidgets": {},
     "nuid": "175cd292-4bab-40a0-a824-638ee0ebcebb",
     "showTitle": false,
     "title": ""
    }
   },
   "outputs": [
    {
     "output_type": "execute_result",
     "data": {
      "text/plain": [
       "<Axes: >"
      ]
     },
     "execution_count": 43,
     "metadata": {},
     "output_type": "execute_result"
    },
    {
     "output_type": "display_data",
     "data": {
      "image/png": "[encoded data removed]",
      "text/plain": [
       "<Figure size 640x480 with 1 Axes>"
      ]
     },
     "metadata": {},
     "output_type": "display_data"
    }
   ],
   "source": [
    "featimp = pd.DataFrame(model.feature_importances_)\n",
    "featimp\n",
    "\n",
    "#Plot the Feature Importance\n",
    "featimp = pd.DataFrame(model.feature_importances_)\n",
    "featimp = featimp.rename({0:'FeatImp'}, axis='columns')\n",
    "featimp.index = ['T3','T4','TSH']\n",
    "featimp = featimp.sort_values(by=['FeatImp'], ascending=False)\n",
    "featimp.plot(kind='bar')"
   ]
  },
  {
   "cell_type": "code",
   "execution_count": 0,
   "metadata": {
    "application/vnd.databricks.v1+cell": {
     "cellMetadata": {
      "byteLimit": 2048000,
      "rowLimit": 10000
     },
     "inputWidgets": {},
     "nuid": "cfc8b10d-15cd-4b30-94e6-d4b33bce9171",
     "showTitle": false,
     "title": ""
    }
   },
   "outputs": [
    {
     "output_type": "stream",
     "name": "stdout",
     "output_type": "stream",
     "text": [
      "Experiment ID: 1403228684565640\n"
     ]
    }
   ],
   "source": [
    "from mlflow.tracking import MlflowClient\n",
    "\n",
    "mlflow.set_tracking_uri(\"databricks\")\n",
    "client = MlflowClient()\n",
    "\n",
    "run_info = client.get_run(run_id)\n",
    "experiment_id = run_info.info.experiment_id\n",
    "print(f\"Experiment ID: {experiment_id}\")\n"
   ]
  },
  {
   "cell_type": "code",
   "execution_count": 0,
   "metadata": {
    "application/vnd.databricks.v1+cell": {
     "cellMetadata": {
      "byteLimit": 2048000,
      "rowLimit": 10000
     },
     "inputWidgets": {},
     "nuid": "0c0616e0-439a-4f81-a368-e1099d113d9f",
     "showTitle": false,
     "title": ""
    }
   },
   "outputs": [],
   "source": [
    "#print(mlflow.__version__)"
   ]
  },
  {
   "cell_type": "code",
   "execution_count": 0,
   "metadata": {
    "application/vnd.databricks.v1+cell": {
     "cellMetadata": {
      "byteLimit": 2048000,
      "rowLimit": 10000
     },
     "inputWidgets": {},
     "nuid": "c9e223e2-ca30-4203-ab59-ad4ffec18df9",
     "showTitle": false,
     "title": ""
    }
   },
   "outputs": [
    {
     "output_type": "display_data",
     "data": {
      "application/vnd.jupyter.widget-view+json": {
       "model_id": "9fcd549c73534e59b83c1f7455d3dfca",
       "version_major": 2,
       "version_minor": 0
      },
      "text/plain": [
       "Downloading artifacts:   0%|          | 0/9 [00:00<?, ?it/s]"
      ]
     },
     "metadata": {},
     "output_type": "display_data"
    },
    {
     "output_type": "stream",
     "name": "stdout",
     "output_type": "stream",
     "text": [
      "dbfs:/databricks/mlflow-tracking/1403228684565640/b57d800ade444045b87661c34dab1ada/artifacts/model\n/local_disk0/repl_tmp_data/ReplId-1910e-542a9-d/tmpkmdasyu_/model\n"
     ]
    }
   ],
   "source": [
    "artifacts_path = mlflow.artifacts.download_artifacts(artifact_uri=artifact_uri)\n",
    "print(artifact_uri)\n",
    "print(artifacts_path)"
   ]
  },
  {
   "cell_type": "code",
   "execution_count": 0,
   "metadata": {
    "application/vnd.databricks.v1+cell": {
     "cellMetadata": {
      "byteLimit": 2048000,
      "rowLimit": 10000
     },
     "inputWidgets": {},
     "nuid": "ae009b41-1f2a-44b2-8a46-925196727853",
     "showTitle": false,
     "title": ""
    }
   },
   "outputs": [
    {
     "output_type": "display_data",
     "data": {
      "application/vnd.jupyter.widget-view+json": {
       "model_id": "ec593c713f934f0bb8e791d33a172675",
       "version_major": 2,
       "version_minor": 0
      },
      "text/plain": [
       "Downloading artifacts:   0%|          | 0/9 [00:00<?, ?it/s]"
      ]
     },
     "metadata": {},
     "output_type": "display_data"
    },
    {
     "output_type": "stream",
     "name": "stdout",
     "output_type": "stream",
     "text": [
      "[ 3.9181330e-05  1.7345443e-05 -3.1793944e-04 ...  4.9973969e-05\n  2.4543893e-05  6.1613463e-07]\n[ 3.9181330e-05  1.7345443e-05 -3.1793944e-04 ...  4.9973969e-05\n  2.4543893e-05  6.1613463e-07]\n"
     ]
    }
   ],
   "source": [
    "model_loaded = mlflow.pyfunc.load_model(\n",
    "  'runs:/{run_id}/model'.format(\n",
    "    run_id=run.info.run_id\n",
    "  )\n",
    ")\n",
    "\n",
    "predictions_loaded = model_loaded.predict(X_test)\n",
    "predictions_original = model.predict(X_test)\n",
    "\n",
    "print(predictions_loaded)\n",
    "print(predictions_original)\n",
    "\n",
    "# The loaded model should match the original\n",
    "assert(np.array_equal(predictions_loaded, predictions_original))\n"
   ]
  },
  {
   "cell_type": "code",
   "execution_count": 0,
   "metadata": {
    "application/vnd.databricks.v1+cell": {
     "cellMetadata": {
      "byteLimit": 2048000,
      "rowLimit": 10000
     },
     "inputWidgets": {},
     "nuid": "e808b8e8-76e9-4402-9031-855014264144",
     "showTitle": false,
     "title": ""
    }
   },
   "outputs": [],
   "source": [
    "# artifacts_contents = dbutils.fs.ls(artifact_uri)\n",
    "\n",
    "# for item in artifacts_contents:\n",
    "#     print(item)"
   ]
  },
  {
   "cell_type": "code",
   "execution_count": 0,
   "metadata": {
    "application/vnd.databricks.v1+cell": {
     "cellMetadata": {
      "byteLimit": 2048000,
      "rowLimit": 10000
     },
     "inputWidgets": {},
     "nuid": "87413d4b-5e19-41c6-b892-2b4736902696",
     "showTitle": false,
     "title": ""
    }
   },
   "outputs": [
    {
     "output_type": "stream",
     "name": "stdout",
     "output_type": "stream",
     "text": [
      "model_uri runs:/b57d800ade444045b87661c34dab1ada/model\n"
     ]
    }
   ],
   "source": [
    "print('model_uri', model_uri)"
   ]
  },
  {
   "cell_type": "code",
   "execution_count": 0,
   "metadata": {
    "application/vnd.databricks.v1+cell": {
     "cellMetadata": {
      "byteLimit": 2048000,
      "rowLimit": 10000
     },
     "inputWidgets": {},
     "nuid": "ee0e44a3-32ea-4d9a-8a79-121ad18a9e86",
     "showTitle": false,
     "title": ""
    }
   },
   "outputs": [
    {
     "output_type": "display_data",
     "data": {
      "application/vnd.jupyter.widget-view+json": {
       "model_id": "0bf8e87c5dbd4042a24114e2e10c365b",
       "version_major": 2,
       "version_minor": 0
      },
      "text/plain": [
       "Downloading artifacts:   0%|          | 0/9 [00:00<?, ?it/s]"
      ]
     },
     "metadata": {},
     "output_type": "display_data"
    },
    {
     "output_type": "stream",
     "name": "stdout",
     "output_type": "stream",
     "text": [
      "[ 3.9181330e-05  1.7345443e-05 -3.1793944e-04 ...  4.9973969e-05\n  2.4543893e-05  6.1613463e-07]\n"
     ]
    }
   ],
   "source": [
    "# Load the model\n",
    "registered_model = mlflow.pyfunc.load_model(model_uri)\n",
    "\n",
    "# Use the model for predictions\n",
    "predictions = registered_model.predict(X_test)\n",
    "print(predictions)"
   ]
  }
 ],
 "metadata": {
  "application/vnd.databricks.v1+notebook": {
   "dashboards": [],
   "environmentMetadata": null,
   "language": "python",
   "notebookMetadata": {
    "mostRecentlyExecutedCommandWithImplicitDF": {
     "commandId": 4425987701379026,
     "dataframes": [
      "_sqldf"
     ]
    },
    "pythonIndentUnit": 4
   },
   "notebookName": "Databricks_DiseasePrediction_Regression_SyntheticData",
   "widgets": {}
  },
  "kernelspec": {
   "display_name": "Python 3 (ipykernel)",
   "language": "python",
   "name": "python3"
  },
  "language_info": {
   "codemirror_mode": {
    "name": "ipython",
    "version": 3
   },
   "file_extension": ".py",
   "mimetype": "text/x-python",
   "name": "python",
   "nbconvert_exporter": "python",
   "pygments_lexer": "ipython3",
   "version": "3.10.13"
  }
 },
 "nbformat": 4,
 "nbformat_minor": 0
}
